{
 "cells": [
  {
   "cell_type": "code",
   "execution_count": 1,
   "metadata": {},
   "outputs": [],
   "source": [
    "import pathlib\n",
    "\n",
    "import awkward as ak\n",
    "import librosa\n",
    "from loguru import logger\n",
    "import numpy as np\n",
    "import pandas as pd\n",
    "import scipy\n",
    "import torch\n",
    "from tqdm import tqdm\n",
    "\n",
    "from utils.utils import import_audio_dataset, file_names_map, encode_file_names, \\\n",
    "    pad_awkward_array, audio_tokenizer, downsample_tensor, get_file_list"
   ]
  },
  {
   "cell_type": "code",
   "execution_count": 2,
   "metadata": {},
   "outputs": [
    {
     "name": "stderr",
     "output_type": "stream",
     "text": [
      "\u001b[32m2024-03-19 10:01:15.196\u001b[0m | \u001b[1mINFO    \u001b[0m | \u001b[36mutils.utils\u001b[0m:\u001b[36mimport_audio_dataset\u001b[0m:\u001b[36m71\u001b[0m - \u001b[1mLoading 2452 files to list...\u001b[0m\n",
      "  0%|          | 0/2452 [00:00<?, ?it/s]"
     ]
    },
    {
     "name": "stderr",
     "output_type": "stream",
     "text": [
      "100%|██████████| 2452/2452 [00:19<00:00, 124.10it/s]\n",
      "\u001b[32m2024-03-19 10:01:34.964\u001b[0m | \u001b[1mINFO    \u001b[0m | \u001b[36mutils.utils\u001b[0m:\u001b[36mimport_audio_dataset\u001b[0m:\u001b[36m78\u001b[0m - \u001b[1mLoading 2452 files to awkward array...\u001b[0m\n",
      "100%|██████████| 2452/2452 [07:19<00:00,  6.75it/s]"
     ]
    },
    {
     "ename": "",
     "evalue": "",
     "output_type": "error",
     "traceback": [
      "\u001b[1;31mThe Kernel crashed while executing code in the current cell or a previous cell. \n",
      "\u001b[1;31mPlease review the code in the cell(s) to identify a possible cause of the failure. \n",
      "\u001b[1;31mClick <a href='https://aka.ms/vscodeJupyterKernelCrash'>here</a> for more info. \n",
      "\u001b[1;31mView Jupyter <a href='command:jupyter.viewOutput'>log</a> for further details."
     ]
    }
   ],
   "source": [
    "Xr = import_audio_dataset('data/ravdess/', '.wav')\n",
    "# Xc = import_audio_dataset('data/crema/', '.wav')"
   ]
  },
  {
   "cell_type": "code",
   "execution_count": null,
   "metadata": {},
   "outputs": [],
   "source": [
    "Yr = encode_file_names(get_file_list('data/ravdess/', '.wav'), 'ravdess')\n",
    "Yc = encode_file_names(get_file_list('data/crema/', '.wav'), 'crema')"
   ]
  },
  {
   "cell_type": "code",
   "execution_count": null,
   "metadata": {},
   "outputs": [],
   "source": []
  }
 ],
 "metadata": {
  "kernelspec": {
   "display_name": "cmepda_env",
   "language": "python",
   "name": "python3"
  },
  "language_info": {
   "codemirror_mode": {
    "name": "ipython",
    "version": 3
   },
   "file_extension": ".py",
   "mimetype": "text/x-python",
   "name": "python",
   "nbconvert_exporter": "python",
   "pygments_lexer": "ipython3",
   "version": "3.10.12"
  }
 },
 "nbformat": 4,
 "nbformat_minor": 2
}
